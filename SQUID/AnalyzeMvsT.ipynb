{
 "cells": [
  {
   "cell_type": "markdown",
   "metadata": {},
   "source": [
    "## <span style=\"color:red\">User Inputs:</span>\n",
    "<span style=\"color:red\">Filename <br>\n",
    "Sample geometry</span>"
   ]
  },
  {
   "cell_type": "code",
   "execution_count": null,
   "metadata": {
    "collapsed": true
   },
   "outputs": [],
   "source": [
    "filename = \"SQUIDdata-ppblsmo/ppblsmo05-MvsT-cool7T-20170124.rso.dat\"\n",
    "samplename = 'ppblsmo05'\n",
    "width = 3. #mm\n",
    "height = 5. #mm\n",
    "thickness = 9. #nm"
   ]
  },
  {
   "cell_type": "code",
   "execution_count": null,
   "metadata": {
    "collapsed": true
   },
   "outputs": [],
   "source": [
    "#Imports, setting, etc.\n",
    "import numpy as np\n",
    "import matplotlib.pyplot as plt\n",
    "%matplotlib notebook\n",
    "from scipy import interpolate\n",
    "from scipy import optimize\n",
    "import numpy.lib.recfunctions\n",
    "import time\n",
    "\n",
    "#function to read in data from a MultiVu file\n",
    "def read(fname):\n",
    "    #SEPARATE HEADER FROM DATA\n",
    "    headerline = ''\n",
    "    header = '' #header will be added to the beginning of any output files\n",
    "    nline = 0\n",
    "    inputfile = open(fname,'r')\n",
    "    while headerline != \"[Data]\\n\":\n",
    "        headerline = inputfile.readline()\n",
    "        nline += 1\n",
    "        header = header + headerline\n",
    "    inputfile.close()\n",
    "    #READ IN DATA FILE, masked. Not all of them will be filled. The mask has values of True where data is missing\n",
    "    arr = np.genfromtxt(fname, delimiter=',', skip_header=nline, names=True, usemask=True, dtype=None)\n",
    "    yield arr\n",
    "    yield header"
   ]
  },
  {
   "cell_type": "markdown",
   "metadata": {},
   "source": [
    "Read in data in MultiVu format"
   ]
  },
  {
   "cell_type": "code",
   "execution_count": null,
   "metadata": {
    "scrolled": true
   },
   "outputs": [],
   "source": [
    "data, header = read(filename)\n",
    "#output data columns\n",
    "print header\n",
    "\n",
    "preheader = '[Header - Processing]\\n'\n",
    "preheader += 'File generated at '+'[TODO:insert time here]'+' from file: '+filename+'\\n'\n",
    "\n",
    "data.dtype.names"
   ]
  },
  {
   "cell_type": "markdown",
   "metadata": {},
   "source": [
    "## Checking the data to make sure it's good quality"
   ]
  },
  {
   "cell_type": "code",
   "execution_count": null,
   "metadata": {},
   "outputs": [],
   "source": [
    "#check that we are varying the right variables over time\n",
    "plt.figure()\n",
    "plt.plot(data['Field_Oe'],label='Field')\n",
    "plt.plot(data['Temperature_K'],label='Temp')\n",
    "plt.legend()"
   ]
  },
  {
   "cell_type": "code",
   "execution_count": null,
   "metadata": {
    "scrolled": true
   },
   "outputs": [],
   "source": [
    "plt.figure()\n",
    "plt.plot(data['Temperature_K'],data['Long_Moment_emu'])"
   ]
  },
  {
   "cell_type": "code",
   "execution_count": null,
   "metadata": {
    "scrolled": true
   },
   "outputs": [],
   "source": [
    "plt.figure()\n",
    "plt.plot(data['Long_Reg_Fit'],'.')"
   ]
  },
  {
   "cell_type": "markdown",
   "metadata": {},
   "source": [
    "Filter out curves with bad fits if necessary"
   ]
  },
  {
   "cell_type": "code",
   "execution_count": null,
   "metadata": {},
   "outputs": [],
   "source": [
    "filterlevel = .9\n",
    "filt = np.ma.where(data['Long_Reg_Fit'] < filterlevel)\n",
    "#filter out values with bad fit values - this masks the whole row - useful for compressing these rows\n",
    "data[filt] = np.ma.masked"
   ]
  },
  {
   "cell_type": "markdown",
   "metadata": {},
   "source": [
    "Inspect raw data to see why fit failed"
   ]
  },
  {
   "cell_type": "code",
   "execution_count": null,
   "metadata": {
    "collapsed": true
   },
   "outputs": [],
   "source": [
    "rawfilename = filename.replace('SQUIDdata','Raw').replace('.dat','.raw')\n",
    "rawdata, rawheader = read(rawfilename)"
   ]
  },
  {
   "cell_type": "code",
   "execution_count": null,
   "metadata": {
    "scrolled": true
   },
   "outputs": [],
   "source": [
    "size = rawdata.size/data.size\n",
    "for index in filt[0]:\n",
    "    plt.figure()\n",
    "    plt.title('Raw Scan for H='+str(rawdata['Field_Oe'][index*size])+'Oe')\n",
    "    plt.plot(rawdata['Position_cm'][index*size:(index+1)*size],rawdata['Long_Voltage'][index*size:(index+1)*size],label='Original')\n",
    "    plt.plot(rawdata['Position_cm'][index*size:(index+1)*size],rawdata['Long_Average_Voltage'][index*size:(index+1)*size],label='Averaged')\n",
    "    plt.plot(rawdata['Position_cm'][index*size:(index+1)*size],rawdata['Long_Reg_Fit'][index*size:(index+1)*size],label='Fit')\n",
    "    plt.legend()"
   ]
  },
  {
   "cell_type": "markdown",
   "metadata": {},
   "source": [
    "TODO: remove artifacts from raw data and fit, if possible"
   ]
  },
  {
   "cell_type": "markdown",
   "metadata": {},
   "source": [
    "Supress masked data - since masked arrays do not work well with many numpy routines (such as interpolate)"
   ]
  },
  {
   "cell_type": "code",
   "execution_count": null,
   "metadata": {},
   "outputs": [],
   "source": [
    "#preheader += 'Data with fits below '+str(filterlevel)+' were removed from the data due to issues with the raw measurement/fit.\\n'\n",
    "\n",
    "importantcolumns = ['Temperature_K','Field_Oe','Long_Moment_emu','Long_Reg_Fit']\n",
    "thedata = data[importantcolumns]\n",
    "colstoextract = ~np.ma.getmaskarray(thedata).view('bool').reshape(thedata.shape + (-1,))[:,0]\n",
    "gooddata = thedata[colstoextract]\n",
    "gooddata"
   ]
  },
  {
   "cell_type": "markdown",
   "metadata": {},
   "source": [
    "## Subtract background\n",
    "TODO: figure out how to subtract background - maybe this requires an MvsH loop? Or is the background too small in this case?"
   ]
  },
  {
   "cell_type": "code",
   "execution_count": null,
   "metadata": {},
   "outputs": [],
   "source": [
    "plt.figure()\n",
    "plt.plot(gooddata['Temperature_K'], gooddata['Long_Moment_emu'])"
   ]
  },
  {
   "cell_type": "code",
   "execution_count": null,
   "metadata": {},
   "outputs": [],
   "source": [
    "volume = width/10. * height/10. * thickness/1.E7 #cm^3\n",
    "moment = gooddata['Long_Moment_emu']/volume #emu/cc\n",
    "preheader += 'Moment scaled to volume assuming the following dimensions:\\n'\n",
    "preheader += '  width: '+str(width)+' mm, height: '+str(height)+' mm, thickness: '+str(thickness)+' nm\\n'\n",
    "\n",
    "plt.figure()\n",
    "plt.plot(gooddata['Temperature_K'], moment, 'b.-')\n",
    "plt.title('MvsT')\n",
    "plt.xlabel('Temperature (K)')\n",
    "plt.ylabel('Moment (emu/cc)')\n",
    "ax = plt.gca()\n",
    "ax.tick_params(direction='in')"
   ]
  },
  {
   "cell_type": "markdown",
   "metadata": {},
   "source": [
    "## Extract parameters from MvsT curve and plot"
   ]
  },
  {
   "cell_type": "markdown",
   "metadata": {},
   "source": [
    "Saturation magnetization<Br>\n",
    "TODO: it's not actually saturation, right? Also, what to do about maxima in the MvsT - implies frozen in disorder of some sort"
   ]
  },
  {
   "cell_type": "code",
   "execution_count": null,
   "metadata": {
    "collapsed": true
   },
   "outputs": [],
   "source": []
  },
  {
   "cell_type": "markdown",
   "metadata": {},
   "source": [
    "Curie temperature<br>\n",
    "Interpolate data in order to extract zero crossings<br>\n",
    "<span style=\"color:red\">Multiple interpolation/fitting routines available</span>"
   ]
  },
  {
   "cell_type": "code",
   "execution_count": null,
   "metadata": {},
   "outputs": [],
   "source": [
    "x = range(int(gooddata['Temperature_K'][0]),int(gooddata['Temperature_K'][-1]),1) #values to plot interpolated/fit function to verify that it's a good representation of the data\n",
    "\n",
    "#TODO: fix interpolation and value extractions so that it is monotonic, etc.\n",
    "#e.g. https://stackoverflow.com/questions/17935779/constrained-spline-fit-using-scipy-in-python\n",
    "#TODO: propagate errors from saturated moment to exchange bias, remanent, coercivity, etc.\n",
    "interpolationtype = 1\n",
    "\n",
    "if interpolationtype == 1:\n",
    "    #The interpolator preserves monotonicity in the interpolation data and does not overshoot if the data is not smooth. The first derivatives are guaranteed to be continuous, but the second derivatives may jump at x_k\n",
    "    func = interpolate.PchipInterpolator(np.ma.getdata(gooddata['Temperature_K']),np.ma.getdata(moment))\n",
    "    y = func(list(x))\n",
    "elif interpolationtype == 2:\n",
    "    #interp1d - linear spline\n",
    "    func = interpolate.interp1d(gooddata['Temperature_K'], moment, kind='slinear')\n",
    "    y = func(list(x))\n",
    "elif interpolationtype == 3:\n",
    "    #spline with smoothing\n",
    "    func = interpolate.splrep((gooddata['Temperature_K']),moment, k=3,s=12)\n",
    "    y = interpolate.splev(x,func)\n",
    "elif interpolationtype == 4:\n",
    "    #Use only for precise data, as the fitted curve passes through the given points exactly. This routine is useful for plotting a pleasingly smooth curve through a few given points for purposes of plotting.\n",
    "    func = interpolate.Akima1DInterpolator(np.ma.getdata(gooddata['Field_Oe']), np.ma.getdata(moment))\n",
    "    y = func(list(x))\n",
    "\n",
    "plt.figure()\n",
    "plt.plot(x,y,'b')\n",
    "plt.plot(gooddata['Temperature_K'],moment,'r.')"
   ]
  },
  {
   "cell_type": "code",
   "execution_count": null,
   "metadata": {
    "collapsed": true
   },
   "outputs": [],
   "source": [
    "preheader += 'Curve interpolated/smoothed using '\n",
    "if interpolationtype == 1:\n",
    "    preheader += 'PchipInterpolator (monotonic, no smoothing)'\n",
    "elif interpolationtype == 2:\n",
    "    preheader += 'interp1d (linear spline)'\n",
    "elif interpolationtype == 3:\n",
    "    preheader += 'splrep (cubic spline with 12-point smoothing)'\n",
    "elif interpolationtype == 4:\n",
    "    preheader += 'Akima1DInterpolator (visually smooth curve)'\n",
    "preheader += ' to extract parameters:\\n'"
   ]
  },
  {
   "cell_type": "code",
   "execution_count": null,
   "metadata": {},
   "outputs": [],
   "source": [
    "#TODO: rewrite calculations using uncertainty package, so errors propogate correctly\n",
    "def tomin(x):\n",
    "    return -func(x)\n",
    "saturation = optimize.minimize_scalar(tomin,bracket=[80,110])\n",
    "print saturation\n",
    "satmoment = func(saturation.x)\n",
    "print('Saturation moment: '+str(satmoment)+' emu/cm^3')\n",
    "preheader += 'Saturation moment:    '+str(satmoment)+' emu/cm^3\\n'"
   ]
  },
  {
   "cell_type": "code",
   "execution_count": null,
   "metadata": {},
   "outputs": [],
   "source": [
    "Tc = optimize.brentq(func, 330, 345) #where the signal switches from ferromagnetic to diamagnetic - Tc may actually be slightly above this? would depend on the background tbh\n",
    "print('Curie temperature: '+str(Tc)+' K')\n",
    "preheader += 'Curie Temperature:       '+str(Tc)+' K\\n'"
   ]
  },
  {
   "cell_type": "code",
   "execution_count": null,
   "metadata": {},
   "outputs": [],
   "source": [
    "remanentdown = funcdown(0)\n",
    "remanentup = funcup(0)\n",
    "remanent = (remanentdown - remanentup)/2.\n",
    "print('Remanent Magnetization: '+str(remanent)+' emu/cc')\n",
    "print remanentdown\n",
    "print remanentup\n",
    "print funcdown(Hexchangebias)\n",
    "print funcup(Hexchangebias)\n",
    "preheader += 'Remanent moment:      '+str(remanent)+' emu/cm^3\\n'"
   ]
  },
  {
   "cell_type": "code",
   "execution_count": null,
   "metadata": {},
   "outputs": [],
   "source": [
    "plt.figure()\n",
    "plt.plot(gooddata['Temperature_K'], moment,'r.-',label='Sweep')\n",
    "plt.plot(saturation.x,satmoment,'kx',label='Saturation magnetization')\n",
    "plt.vlines(Tc,0,satmoment,linestyles='dotted',label='Curie Temperature')\n",
    "plt.title('MvsT: '+samplename)\n",
    "plt.xlabel('Temperature (K)')\n",
    "plt.ylabel('Moment (emu/cc)')\n",
    "ax = plt.gca()\n",
    "plt.legend(loc=3)\n",
    "ax.tick_params(direction='in')\n",
    "print('Saturation moment: '+str(satmoment)+' emu/cm^3')\n",
    "#print('Remanent moment: '+str(remanent)+' emu/cm^3')\n",
    "print ('Curie Temperature: '+str(Tc)+' K')\n",
    "#print ('Exchange bias field: '+str(Hexchangebias)+' Oe')"
   ]
  },
  {
   "cell_type": "markdown",
   "metadata": {},
   "source": [
    "## Calculate expected moment\n",
    "<span style=\"color:red\">Doping, chemical composition, etc. needed</span>"
   ]
  },
  {
   "cell_type": "code",
   "execution_count": null,
   "metadata": {},
   "outputs": [],
   "source": [
    "Ladoping = 2./3.\n",
    "Mnvalence = Ladoping*3. + (1.-Ladoping)*2. -3.*2.\n",
    "delectronsperuc = 5 - Mnvalence\n",
    "#octahedral field splitting - 3 t2g then 2 eg bands above\n",
    "if delectronsperuc <= 3:\n",
    "    momperuc = delectronsperuc\n",
    "elif delectronsperuc <= 6:\n",
    "    momperuc = 6.-delectronsperuc\n",
    "else:\n",
    "    momperuc = delectronsperuc-6.\n",
    "density = 6.5 #g/cm^3\n",
    "numuc = density * 6.022E23 / (Ladoping*138.91 + (1.-Ladoping)*87.62 + 54.938 + 3.*15.999) #g/uc\n",
    "print numuc\n",
    "print momperuc\n",
    "expmoment = momperuc * numuc * (2 * 9.271E-21) #2 bohr magneton per electron\n",
    "print 'Expected Saturation Moment: '+str(expmoment)+' emu/cm^3'\n",
    "preheader += 'Expected sat. moment: '+str(expmoment)+' emu/cm^3\\n'"
   ]
  },
  {
   "cell_type": "markdown",
   "metadata": {
    "collapsed": true
   },
   "source": [
    "## Export data to external file for graphing later"
   ]
  },
  {
   "cell_type": "code",
   "execution_count": null,
   "metadata": {},
   "outputs": [],
   "source": [
    "#columnNames = 'Field (Oe), Temperature (K), Subtracted Moment (emu/cm3), Long Reg Fit'\n",
    "outfilename = filename[:-8]+'-subtracted'+filename[-8:]\n",
    "outdata = np.lib.recfunctions.append_fields(gooddata, 'Subtracted_Moment_emu/cm3', data=moment)\n",
    "outcols = ['Temperature_K','Field_Oe','Subtracted_Moment_emu/cm3','Long_Reg_Fit']\n",
    "outcolLabels = ['Temperature (K)', 'Field (Oe)', 'Subtracted Moment (emu/cm^3)', 'Long Reg Fit']\n",
    "outheader = preheader.replace('[TODO:insert time here]', time.strftime('%c',time.localtime()))+'\\n'+header+','.join(outcolLabels)\n",
    "\n",
    "np.savetxt(outfilename, outdata[outcols], delimiter=',', header=outheader)\n",
    "print 'Saved to: '+outfilename"
   ]
  },
  {
   "cell_type": "code",
   "execution_count": null,
   "metadata": {
    "collapsed": true
   },
   "outputs": [],
   "source": []
  }
 ],
 "metadata": {
  "kernelspec": {
   "display_name": "Python 2",
   "language": "python",
   "name": "python2"
  },
  "language_info": {
   "codemirror_mode": {
    "name": "ipython",
    "version": 2
   },
   "file_extension": ".py",
   "mimetype": "text/x-python",
   "name": "python",
   "nbconvert_exporter": "python",
   "pygments_lexer": "ipython2",
   "version": "2.7.16"
  }
 },
 "nbformat": 4,
 "nbformat_minor": 2
}
