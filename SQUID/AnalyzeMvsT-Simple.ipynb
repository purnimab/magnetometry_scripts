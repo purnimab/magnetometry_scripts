{
 "cells": [
  {
   "cell_type": "code",
   "execution_count": null,
   "metadata": {},
   "outputs": [],
   "source": [
    "import numpy as np\n",
    "import matplotlib.pyplot as plt\n",
    "from scipy.interpolate import interp1d,splrep,splev,PchipInterpolator"
   ]
  },
  {
   "cell_type": "markdown",
   "metadata": {},
   "source": [
    "### Remove bad points, sort, to get M vs T curve"
   ]
  },
  {
   "cell_type": "code",
   "execution_count": null,
   "metadata": {},
   "outputs": [],
   "source": [
    "filename = 'ppblsmocro03A-IP45deg-MvsT-cool7T-100Oewarm-20180717.rso.dat'"
   ]
  },
  {
   "cell_type": "code",
   "execution_count": null,
   "metadata": {},
   "outputs": [],
   "source": [
    "MvT = np.genfromtxt(filename, delimiter=',', names=True, skip_header=30)"
   ]
  },
  {
   "cell_type": "code",
   "execution_count": null,
   "metadata": {},
   "outputs": [],
   "source": [
    "offset = np.min(MvT['Long_Moment_emu'])\n",
    "shifted = MvT['Long_Moment_emu'] - offset"
   ]
  },
  {
   "cell_type": "code",
   "execution_count": null,
   "metadata": {
    "scrolled": false
   },
   "outputs": [],
   "source": [
    "MvT.dtype.names"
   ]
  },
  {
   "cell_type": "code",
   "execution_count": null,
   "metadata": {},
   "outputs": [],
   "source": [
    "%matplotlib notebook\n",
    "plt.plot(MvT['Temperature_K'], MvT['Long_Reg_Fit'],'.-')\n",
    "plt.xlabel('Temperature (K)')\n",
    "plt.tight_layout()"
   ]
  },
  {
   "cell_type": "code",
   "execution_count": null,
   "metadata": {},
   "outputs": [],
   "source": [
    "badfit = np.where(MvT['Long_Reg_Fit'][:210]<.95)[0]\n",
    "temp = np.delete(MvT['Temperature_K'],badfit)\n",
    "tsort = np.argsort(temp)\n",
    "temp = temp[tsort]\n",
    "moment = np.delete(shifted,badfit)[tsort]"
   ]
  },
  {
   "cell_type": "code",
   "execution_count": null,
   "metadata": {},
   "outputs": [],
   "source": [
    "%matplotlib notebook\n",
    "plt.plot(temp, moment*1e5,'.-')\n",
    "plt.xlabel('Temperature (K)')\n",
    "plt.ylabel(r'Moment ($10^{-5}$ emu)')\n",
    "plt.tight_layout()"
   ]
  },
  {
   "cell_type": "markdown",
   "metadata": {},
   "source": [
    "### Calculate Curie Temperature"
   ]
  },
  {
   "cell_type": "code",
   "execution_count": null,
   "metadata": {},
   "outputs": [],
   "source": [
    "temps = np.linspace(310,360,(50*4)+1)"
   ]
  },
  {
   "cell_type": "code",
   "execution_count": null,
   "metadata": {},
   "outputs": [],
   "source": [
    "#spline\n",
    "mom = splrep(temp,moment)\n",
    "firstderiv = splev(temps,mom,der=1)"
   ]
  },
  {
   "cell_type": "code",
   "execution_count": null,
   "metadata": {},
   "outputs": [],
   "source": [
    "#Pchip\n",
    "mom = PchipInterpolator(temp,moment)\n",
    "firstderiv = (mom.derivative())(temps)"
   ]
  },
  {
   "cell_type": "code",
   "execution_count": null,
   "metadata": {},
   "outputs": [],
   "source": [
    "%matplotlib notebook\n",
    "plt.plot(temps, firstderiv,'.-')"
   ]
  },
  {
   "cell_type": "code",
   "execution_count": null,
   "metadata": {},
   "outputs": [],
   "source": [
    "Tc = temps[np.argmin(firstderiv)]\n",
    "print Tc"
   ]
  },
  {
   "cell_type": "code",
   "execution_count": null,
   "metadata": {},
   "outputs": [],
   "source": [
    "Tcerr = (temps[np.argmin(firstderiv)+1]-temps[np.argmin(firstderiv)-1])/4.\n",
    "print Tcerr"
   ]
  },
  {
   "cell_type": "code",
   "execution_count": null,
   "metadata": {},
   "outputs": [],
   "source": [
    "#thickness = \n",
    "#area = etched area\n",
    "\n",
    "#volume = area*thickness\n",
    "#mag = moment/volume"
   ]
  },
  {
   "cell_type": "code",
   "execution_count": null,
   "metadata": {},
   "outputs": [],
   "source": [
    "np.savez(filename.rpartition('.')[0], temperature = temp, moment = moment, TC = Tc, errTC = Tcerr#,\n",
    "         #magnetizationemucc = mag\n",
    "        )"
   ]
  },
  {
   "cell_type": "code",
   "execution_count": null,
   "metadata": {},
   "outputs": [],
   "source": []
  }
 ],
 "metadata": {
  "kernelspec": {
   "display_name": "Python 2",
   "language": "python",
   "name": "python2"
  },
  "language_info": {
   "codemirror_mode": {
    "name": "ipython",
    "version": 2
   },
   "file_extension": ".py",
   "mimetype": "text/x-python",
   "name": "python",
   "nbconvert_exporter": "python",
   "pygments_lexer": "ipython2",
   "version": "2.7.16"
  }
 },
 "nbformat": 4,
 "nbformat_minor": 2
}
