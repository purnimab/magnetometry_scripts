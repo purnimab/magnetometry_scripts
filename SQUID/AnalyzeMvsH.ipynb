{
 "cells": [
  {
   "cell_type": "markdown",
   "metadata": {},
   "source": [
    "## <span style=\"color:red\">User Inputs:</span>\n",
    "<span style=\"color:red\">Filename <br>\n",
    "Sample geometry</span>"
   ]
  },
  {
   "cell_type": "code",
   "execution_count": null,
   "metadata": {
    "collapsed": true
   },
   "outputs": [],
   "source": [
    "filename = \"SQUIDdata-ppblsmo/ppblsmo05-MvsH-ZFC-100Oewarm-10K-20170124.rso.dat\"\n",
    "samplename = 'ppblsmo05'\n",
    "width = 3. #mm\n",
    "height = 5. #mm\n",
    "thickness = 9. #nm"
   ]
  },
  {
   "cell_type": "code",
   "execution_count": null,
   "metadata": {
    "collapsed": true
   },
   "outputs": [],
   "source": [
    "#Imports, setting, etc.\n",
    "import numpy as np\n",
    "import matplotlib.pyplot as plt\n",
    "%matplotlib notebook\n",
    "from scipy import interpolate\n",
    "from scipy import optimize\n",
    "import numpy.lib.recfunctions\n",
    "import time\n",
    "\n",
    "#function to read in data from a MultiVu file\n",
    "def read(fname):\n",
    "    #SEPARATE HEADER FROM DATA\n",
    "    headerline = ''\n",
    "    header = '' #header will be added to the beginning of any output files\n",
    "    nline = 0\n",
    "    inputfile = open(fname,'rU')\n",
    "    while headerline != \"[Data]\\n\":\n",
    "        headerline = inputfile.readline()\n",
    "        nline += 1\n",
    "        header = header + headerline\n",
    "    inputfile.close()\n",
    "    #READ IN DATA FILE, masked. Not all of them will be filled. The mask has values of True where data is missing\n",
    "    arr = np.genfromtxt(fname, delimiter=',', skip_header=nline, names=True, usemask=True, dtype=None)\n",
    "    yield arr\n",
    "    yield header"
   ]
  },
  {
   "cell_type": "markdown",
   "metadata": {},
   "source": [
    "Read in data in MultiVu format"
   ]
  },
  {
   "cell_type": "code",
   "execution_count": null,
   "metadata": {
    "collapsed": true,
    "scrolled": true
   },
   "outputs": [],
   "source": [
    "data, header = read(filename)\n",
    "#output data columns\n",
    "print header\n",
    "\n",
    "preheader = '[Header - Processing]\\n'\n",
    "preheader += 'File generated at '+'[TODO:insert time here]'+' from file: '+filename+'\\n'\n",
    "\n",
    "data.dtype.names"
   ]
  },
  {
   "cell_type": "markdown",
   "metadata": {},
   "source": [
    "## Checking the data to make sure it's good quality"
   ]
  },
  {
   "cell_type": "code",
   "execution_count": null,
   "metadata": {
    "collapsed": true
   },
   "outputs": [],
   "source": [
    "#check that we are varying the right variables over time\n",
    "plt.figure()\n",
    "plt.plot(data['Field_Oe'],label='Field')\n",
    "plt.plot(data['Temperature_K'],label='Temp')\n",
    "plt.legend()"
   ]
  },
  {
   "cell_type": "code",
   "execution_count": null,
   "metadata": {
    "collapsed": true,
    "scrolled": true
   },
   "outputs": [],
   "source": [
    "plt.figure()\n",
    "plt.plot(data['Field_Oe'],data['Long_Moment_emu'])"
   ]
  },
  {
   "cell_type": "code",
   "execution_count": null,
   "metadata": {
    "collapsed": true,
    "scrolled": true
   },
   "outputs": [],
   "source": [
    "plt.figure()\n",
    "plt.plot(data['Long_Reg_Fit'],'.')"
   ]
  },
  {
   "cell_type": "markdown",
   "metadata": {},
   "source": [
    "Filter out curves with bad fits if necessary"
   ]
  },
  {
   "cell_type": "code",
   "execution_count": null,
   "metadata": {
    "collapsed": true
   },
   "outputs": [],
   "source": [
    "filterlevel = .9\n",
    "filt = np.ma.where(data['Long_Reg_Fit'] < filterlevel)\n",
    "#filter out values with bad fit values - this masks the whole row - useful for compressing these rows\n",
    "data[filt] = np.ma.masked"
   ]
  },
  {
   "cell_type": "markdown",
   "metadata": {},
   "source": [
    "Inspect raw data to see why fit failed"
   ]
  },
  {
   "cell_type": "code",
   "execution_count": null,
   "metadata": {
    "collapsed": true
   },
   "outputs": [],
   "source": [
    "rawfilename = filename.replace('SQUIDdata','Raw').replace('.dat','.raw')\n",
    "rawdata, rawheader = read(rawfilename)"
   ]
  },
  {
   "cell_type": "code",
   "execution_count": null,
   "metadata": {
    "collapsed": true,
    "scrolled": true
   },
   "outputs": [],
   "source": [
    "size = rawdata.size/data.size\n",
    "for index in filt[0]:\n",
    "    plt.figure()\n",
    "    plt.title('Raw Scan for H='+str(rawdata['Field_Oe'][index*size])+'Oe')\n",
    "    plt.plot(rawdata['Position_cm'][index*size:(index+1)*size],rawdata['Long_Voltage'][index*size:(index+1)*size],label='Original')\n",
    "    plt.plot(rawdata['Position_cm'][index*size:(index+1)*size],rawdata['Long_Average_Voltage'][index*size:(index+1)*size],label='Averaged')\n",
    "    plt.plot(rawdata['Position_cm'][index*size:(index+1)*size],rawdata['Long_Reg_Fit'][index*size:(index+1)*size],label='Fit')\n",
    "    plt.legend()"
   ]
  },
  {
   "cell_type": "markdown",
   "metadata": {},
   "source": [
    "TODO: remove artifacts from raw data and fit, if possible"
   ]
  },
  {
   "cell_type": "markdown",
   "metadata": {},
   "source": [
    "Supress masked data - since masked arrays do not work well with many numpy routines (such as interpolate)"
   ]
  },
  {
   "cell_type": "code",
   "execution_count": null,
   "metadata": {
    "collapsed": true
   },
   "outputs": [],
   "source": [
    "preheader += 'Data with fits below '+str(filterlevel)+' were removed from the data due to issues with the raw measurement/fit.\\n'\n",
    "\n",
    "importantcolumns = ['Temperature_K','Field_Oe','Long_Moment_emu','Long_Reg_Fit']\n",
    "thedata = data[importantcolumns]\n",
    "colstoextract = ~np.ma.getmaskarray(thedata).view('bool').reshape(thedata.shape + (-1,))[:,0]\n",
    "gooddata = thedata[colstoextract]\n",
    "gooddata"
   ]
  },
  {
   "cell_type": "markdown",
   "metadata": {},
   "source": [
    "## Separate out field direction sweeps to manually determine saturation field, subtract background"
   ]
  },
  {
   "cell_type": "code",
   "execution_count": null,
   "metadata": {
    "collapsed": true
   },
   "outputs": [],
   "source": [
    "nextdat = gooddata[1:]\n",
    "where = np.ma.where(gooddata['Field_Oe'][:-1] > nextdat['Field_Oe']) #find monotonically decreasing regions\n",
    "maxfield = where[0][0]\n",
    "minfield = where[0][-1] + 2 #sweeps include repeats of fields\n",
    "\n",
    "virgin = gooddata[:maxfield] #first sweep up\n",
    "sweepdown = gooddata[maxfield:minfield] #next sweep down\n",
    "sweepup = gooddata[minfield:] #lastly sweep up\n",
    "\n",
    "plt.figure()\n",
    "plt.plot(virgin['Field_Oe'], virgin['Long_Moment_emu'],'b.-',label='virgin (up)')\n",
    "plt.plot(sweepdown['Field_Oe'], sweepdown['Long_Moment_emu'],'r.-',label='down')\n",
    "plt.plot(sweepup['Field_Oe'], sweepup['Long_Moment_emu'],'g.-',label='up')\n",
    "plt.legend()"
   ]
  },
  {
   "cell_type": "markdown",
   "metadata": {},
   "source": [
    "## <span style=\"color:red\">User: Manually determine saturation region</span>"
   ]
  },
  {
   "cell_type": "code",
   "execution_count": null,
   "metadata": {
    "collapsed": true
   },
   "outputs": [],
   "source": [
    "uppersatfield = 3500\n",
    "lowersatfield = -3500\n",
    "\n",
    "upper = np.ma.where(gooddata['Field_Oe'] >= uppersatfield)\n",
    "lower = np.ma.where(gooddata['Field_Oe'] <= lowersatfield)\n",
    "plt.figure()\n",
    "plt.plot(gooddata['Field_Oe'][upper],gooddata['Long_Moment_emu'][upper])\n",
    "plt.plot(gooddata['Field_Oe'][lower],gooddata['Long_Moment_emu'][lower])"
   ]
  },
  {
   "cell_type": "markdown",
   "metadata": {},
   "source": [
    "Fit to a linear (diamagnetic) background<br>\n",
    "<span style=\"color:red\">Option 1</span>: fit each region to a line separately"
   ]
  },
  {
   "cell_type": "code",
   "execution_count": null,
   "metadata": {
    "collapsed": true
   },
   "outputs": [],
   "source": [
    "lincoefflower = np.ma.polyfit(gooddata['Field_Oe'][lower], gooddata['Long_Moment_emu'][lower], 1)\n",
    "lincoeffupper = np.ma.polyfit(gooddata['Field_Oe'][upper], gooddata['Long_Moment_emu'][upper], 1)\n",
    "print lincoefflower\n",
    "print lincoeffupper\n",
    "print (lincoeffupper[0]+lincoefflower[0])/2.\n",
    "print (lincoeffupper[1]+lincoefflower[1])/2.\n",
    "\n",
    "plt.figure()\n",
    "plt.plot(gooddata['Field_Oe'][upper],gooddata['Long_Moment_emu'][upper],'r.')\n",
    "plt.plot(gooddata['Field_Oe'][lower],gooddata['Long_Moment_emu'][lower],'r.')\n",
    "bglower = lincoefflower[0]*gooddata['Field_Oe'][lower]+lincoefflower[1]\n",
    "bgupper = lincoeffupper[0]*gooddata['Field_Oe'][upper]+lincoeffupper[1]\n",
    "plt.plot(gooddata['Field_Oe'][upper],bgupper,'b')\n",
    "plt.plot(gooddata['Field_Oe'][lower],bglower,'b')"
   ]
  },
  {
   "cell_type": "code",
   "execution_count": null,
   "metadata": {
    "collapsed": true
   },
   "outputs": [],
   "source": [
    "#Option 1.1 - only use the middle region (lower) since it has the least temperature drift during the measurement\n",
    "backgroundslope = lincoefflower[0]\n",
    "backgroundoffset = 0\n",
    "\n",
    "backgroundtype = 1"
   ]
  },
  {
   "cell_type": "code",
   "execution_count": null,
   "metadata": {
    "collapsed": true
   },
   "outputs": [],
   "source": [
    "#Option 1.2 - subtract using the average of the two sides\n",
    "backgroundslope = (lincoeffupper[0]+lincoefflower[0])/2.\n",
    "backgroundoffset = (lincoeffupper[1]+lincoefflower[1])/2.\n",
    "\n",
    "backgroundtype = 2"
   ]
  },
  {
   "cell_type": "markdown",
   "metadata": {},
   "source": [
    "<span style=\"color:red\">Option 2</span>: fit both regions together to lines with the same slope and opposite intercepts"
   ]
  },
  {
   "cell_type": "code",
   "execution_count": null,
   "metadata": {
    "collapsed": true,
    "scrolled": true
   },
   "outputs": [],
   "source": [
    "#adapted from https://stackoverflow.com/questions/23532068/fitting-multiple-data-sets-using-scipy-optimize-with-the-same-parameters\n",
    "init_params = [0,0]\n",
    "def err1(p,x,y):\n",
    "    m,b = p\n",
    "    return m*x+b - y\n",
    "def err2(p,x,y):\n",
    "    m,b = p\n",
    "    return m*x-b - y\n",
    "def global_error(params, lowField, lowMoment, highField, highMoment):\n",
    "    errlow = err2(params, lowField, lowMoment)\n",
    "    errhigh = err1(params, highField, highMoment)\n",
    "    return np.ma.concatenate([errlow,errhigh])\n",
    "\n",
    "fit_params, success = optimize.leastsq(global_error, init_params, args=(gooddata['Field_Oe'][lower], gooddata['Long_Moment_emu'][lower], gooddata['Field_Oe'][upper], gooddata['Long_Moment_emu'][upper]))\n",
    "print success\n",
    "print fit_params\n",
    "\n",
    "backgroundslope = fit_params[0]\n",
    "backgroundoffset = 0\n",
    "\n",
    "backgroundtype = 3\n",
    "\n",
    "plt.figure()\n",
    "plt.plot(gooddata['Field_Oe'][upper],gooddata['Long_Moment_emu'][upper],'r.')\n",
    "plt.plot(gooddata['Field_Oe'][lower],gooddata['Long_Moment_emu'][lower],'r.')\n",
    "bglower = fit_params[0]*gooddata['Field_Oe'][lower]-fit_params[1]\n",
    "bgupper = fit_params[0]*gooddata['Field_Oe'][upper]+fit_params[1]\n",
    "plt.plot(gooddata['Field_Oe'][upper],bgupper,'b')\n",
    "plt.plot(gooddata['Field_Oe'][lower],bglower,'b')"
   ]
  },
  {
   "cell_type": "markdown",
   "metadata": {},
   "source": [
    "Subtract using appropriate background subtraction method"
   ]
  },
  {
   "cell_type": "code",
   "execution_count": null,
   "metadata": {
    "collapsed": true
   },
   "outputs": [],
   "source": [
    "preheader += 'Background at saturation '\n",
    "if backgroundtype == 1:\n",
    "    preheader += '(below '+str(lowersatfield)+' Oe)'\n",
    "else:\n",
    "    preheader += '(above '+str(uppersatfield)+' Oe and below '+str(lowersatfield)+' Oe)'\n",
    "preheader += 'was fit '\n",
    "if backgroundtype == 2:\n",
    "    preheader += 'separately and averaged'\n",
    "elif backgroundtype == 3:\n",
    "    preheader += 'together with opposite intercepts'\n",
    "preheader += ' to a linear (diamagnetic) background:\\n'\n",
    "\n",
    "\n",
    "subtracted = gooddata['Long_Moment_emu'] - backgroundslope*gooddata['Field_Oe'] - backgroundoffset\n",
    "preheader += 'Subtracted_Magnetization_emu = Long_Moment_emu - '+str(backgroundslope)+'*Field_Oe - '+str(backgroundoffset)+'\\n'\n",
    "\n",
    "volume = width/10. * height/10. * thickness/1.E7 #cm^3\n",
    "moment = subtracted/volume #emu/cc\n",
    "preheader += 'Moment scaled to volume assuming the following dimensions:\\n'\n",
    "preheader += '  width: '+str(width)+' mm, height: '+str(height)+' mm, thickness: '+str(thickness)+' nm\\n'\n",
    "\n",
    "virg = moment[:maxfield]\n",
    "down = moment[maxfield:minfield]\n",
    "up = moment[minfield:]\n",
    "plt.figure()\n",
    "plt.plot(gooddata['Field_Oe'][:maxfield], virg, 'b.-')\n",
    "plt.plot(gooddata['Field_Oe'][maxfield:minfield], down,'r.-')\n",
    "plt.plot(gooddata['Field_Oe'][minfield:], up, 'g.-')\n",
    "plt.title('MvsH')\n",
    "plt.xlabel('Applied Field H (Oe)')\n",
    "plt.ylabel('Moment (emu/cc)')\n",
    "ax = plt.gca()\n",
    "ax.tick_params(direction='in')"
   ]
  },
  {
   "cell_type": "markdown",
   "metadata": {},
   "source": [
    "## Extract parameters from MvsH curve and plot"
   ]
  },
  {
   "cell_type": "markdown",
   "metadata": {},
   "source": [
    "Saturation magnetization<Br>\n",
    "TODO: figure out actual saturation field rather than guessing"
   ]
  },
  {
   "cell_type": "code",
   "execution_count": null,
   "metadata": {
    "collapsed": true
   },
   "outputs": [],
   "source": [
    "plt.figure()\n",
    "plt.plot(gooddata['Field_Oe'][upper], moment[upper],'.-')"
   ]
  },
  {
   "cell_type": "code",
   "execution_count": null,
   "metadata": {
    "collapsed": true
   },
   "outputs": [],
   "source": [
    "plt.figure()\n",
    "plt.plot(gooddata['Field_Oe'][lower], moment[lower], '.-')"
   ]
  },
  {
   "cell_type": "markdown",
   "metadata": {},
   "source": [
    "Interpolate data in order to extract zero crossings<br>\n",
    "<span style=\"color:red\">Multiple interpolation/fitting routines available</span>"
   ]
  },
  {
   "cell_type": "code",
   "execution_count": null,
   "metadata": {
    "collapsed": true
   },
   "outputs": [],
   "source": [
    "x = range(int(gooddata['Field_Oe'][minfield]),int(gooddata['Field_Oe'][maxfield]),1) #values to plot interpolated/fit function to verify that it's a good representation of the data\n",
    "\n",
    "#TODO: fix interpolation and value extractions so that it is monotonic, etc.\n",
    "#e.g. https://stackoverflow.com/questions/17935779/constrained-spline-fit-using-scipy-in-python\n",
    "#TODO: propagate errors from saturated moment to exchange bias, remanent, coercivity, etc.\n",
    "interpolationtype = 1\n",
    "\n",
    "if interpolationtype == 1:\n",
    "    #The interpolator preserves monotonicity in the interpolation data and does not overshoot if the data is not smooth. The first derivatives are guaranteed to be continuous, but the second derivatives may jump at x_k\n",
    "    funcdown = interpolate.PchipInterpolator(np.ma.getdata((gooddata['Field_Oe'][maxfield:minfield])[::-1]),np.ma.getdata(down[::-1]))\n",
    "    funcup = interpolate.PchipInterpolator(np.ma.getdata(gooddata['Field_Oe'][minfield:]), np.ma.getdata(up))\n",
    "    yup = funcup(list(x))\n",
    "    ydown = funcdown(list(x))\n",
    "elif interpolationtype == 2:\n",
    "    #interp1d - linear spline\n",
    "    funcdown = interpolate.interp1d(gooddata['Field_Oe'][maxfield:minfield][::-1], down[::-1], kind='slinear')\n",
    "    funcup = interpolate.interp1d(gooddata['Field_Oe'][minfield:], up, kind='slinear')\n",
    "    yup = funcup(list(x))\n",
    "    ydown = funcdown(list(x))\n",
    "elif interpolationtype == 3:\n",
    "    #spline with smoothing\n",
    "    funcdown = interpolate.splrep((gooddata['Field_Oe'][maxfield:minfield])[::-1],down[::-1], k=3,s=12)\n",
    "    funcup = interpolate.splrep(gooddata['Field_Oe'][minfield:], up,k=3,s=12)\n",
    "    yup = interpolate.splev(x,funcup)\n",
    "    ydown = interpolate.splev(x,funcdown)\n",
    "elif interpolationtype == 4:\n",
    "    #Use only for precise data, as the fitted curve passes through the given points exactly. This routine is useful for plotting a pleasingly smooth curve through a few given points for purposes of plotting.\n",
    "    funcdown = interpolate.Akima1DInterpolator(np.ma.getdata(gooddata['Field_Oe'][maxfield:minfield][::-1]), np.ma.getdata(down[::-1]))\n",
    "    funcup = interpolate.Akima1DInterpolator(np.ma.getdata(gooddata['Field_Oe'][minfield:]), np.ma.getdata(up))\n",
    "    yup = funcup(list(x))\n",
    "    ydown = funcdown(list(x))\n",
    "\n",
    "plt.figure()\n",
    "plt.plot(x,ydown,'b')\n",
    "plt.plot(gooddata['Field_Oe'][maxfield:minfield],down,'r.')\n",
    "plt.plot(x,yup,'g')\n",
    "plt.plot(gooddata['Field_Oe'][minfield:],up,'y.')"
   ]
  },
  {
   "cell_type": "code",
   "execution_count": null,
   "metadata": {
    "collapsed": true
   },
   "outputs": [],
   "source": [
    "preheader += 'Curve interpolated/smoothed using '\n",
    "if interpolationtype == 1:\n",
    "    preheader += 'PchipInterpolator (monotonic, no smoothing)'\n",
    "elif interpolationtype == 2:\n",
    "    preheader += 'interp1d (linear spline)'\n",
    "elif interpolationtype == 3:\n",
    "    preheader += 'splrep (cubic spline with 12-point smoothing)'\n",
    "elif interpolationtype == 4:\n",
    "    preheader += 'Akima1DInterpolator (visually smooth curve)'\n",
    "preheader += ' to extract parameters:\\n'"
   ]
  },
  {
   "cell_type": "code",
   "execution_count": null,
   "metadata": {
    "collapsed": true
   },
   "outputs": [],
   "source": [
    "#TODO: rewrite calculations using uncertainty package, so errors propogate correctly\n",
    "satmomup = moment[upper].mean()\n",
    "satmomdown = moment[lower].mean()\n",
    "satmoment = (satmomup-satmomdown)/2.\n",
    "satmomerr = np.sqrt(moment[upper].var()+moment[lower].var())\n",
    "print('Saturation moment: '+str(satmoment)+' +/- '+str(satmomerr)+' emu/cm^3')\n",
    "print str(satmomup)+' (upper)'\n",
    "print str(satmomdown)+' (lower)'\n",
    "preheader += 'Saturation moment:    '+str(satmoment)+' +/- '+str(satmomerr)+' emu/cm^3\\n'"
   ]
  },
  {
   "cell_type": "code",
   "execution_count": null,
   "metadata": {
    "collapsed": true
   },
   "outputs": [],
   "source": [
    "Hcoercivedown = optimize.brentq(funcdown, -100, 0)\n",
    "print('Coercive field (down): '+str(Hcoercivedown)+' Oe')\n",
    "Hcoerciveup = optimize.brentq(funcup, 0, 100)\n",
    "print('Coercive field (up): '+str(Hcoerciveup)+' Oe')\n",
    "Hcoercive = (Hcoerciveup - Hcoercivedown)/2.\n",
    "print ('Coercive field: '+str(Hcoercive)+' Oe')\n",
    "Hexchangebias = (Hcoerciveup + Hcoercivedown)/2.\n",
    "print ('Exchange bias field: '+str(Hexchangebias)+' Oe')\n",
    "preheader += 'Coercive field:       '+str(Hcoercive)+' Oe\\n'\n",
    "preheader += 'Exchange bias field:  '+str(Hexchangebias)+' Oe\\n'"
   ]
  },
  {
   "cell_type": "code",
   "execution_count": null,
   "metadata": {
    "collapsed": true
   },
   "outputs": [],
   "source": [
    "remanentdown = funcdown(0)\n",
    "remanentup = funcup(0)\n",
    "remanent = (remanentdown - remanentup)/2.\n",
    "print('Remanent Magnetization: '+str(remanent)+' emu/cc')\n",
    "print remanentdown\n",
    "print remanentup\n",
    "print funcdown(Hexchangebias)\n",
    "print funcup(Hexchangebias)\n",
    "preheader += 'Remanent moment:      '+str(remanent)+' emu/cm^3\\n'"
   ]
  },
  {
   "cell_type": "code",
   "execution_count": null,
   "metadata": {
    "collapsed": true
   },
   "outputs": [],
   "source": [
    "plt.figure()\n",
    "plt.plot(gooddata['Field_Oe'][maxfield:minfield], down,'r.-',label='Sweep down')\n",
    "plt.plot(gooddata['Field_Oe'][minfield:], up, 'g.-',label='Sweep up')\n",
    "plt.plot(0,remanentdown,'k*',label='Remanent moment')\n",
    "plt.plot(0,remanentup,'k*')\n",
    "plt.plot(Hcoercivedown,0,'kx',label='Coercive field')\n",
    "plt.plot(Hcoerciveup,0,'kx')\n",
    "plt.hlines(satmomup,Hexchangebias,gooddata['Field_Oe'][maxfield],linestyles='dashed',label='Saturation magnetization')\n",
    "plt.hlines(satmomdown,gooddata['Field_Oe'][minfield],Hexchangebias,linestyles='dashed')\n",
    "plt.vlines(Hexchangebias,satmomdown,satmomup,linestyles='dotted',label='Exchange bias')\n",
    "plt.title('MvsH: '+samplename)\n",
    "plt.xlabel('Applied Field (Oe)')\n",
    "plt.ylabel('Moment (emu/cc)')\n",
    "ax = plt.gca()\n",
    "plt.legend(loc=4)\n",
    "ax.tick_params(direction='in')\n",
    "print('Saturation moment: '+str(satmoment)+' +/- '+str(satmomerr)+' emu/cm^3')\n",
    "print('Remanent moment: '+str(remanent)+' emu/cm^3')\n",
    "print ('Coercive field: '+str(Hcoercive)+' Oe')\n",
    "print ('Exchange bias field: '+str(Hexchangebias)+' Oe')"
   ]
  },
  {
   "cell_type": "markdown",
   "metadata": {},
   "source": [
    "## Calculate expected moment\n",
    "<span style=\"color:red\">Doping, chemical composition, etc. needed</span>"
   ]
  },
  {
   "cell_type": "code",
   "execution_count": null,
   "metadata": {
    "collapsed": true
   },
   "outputs": [],
   "source": [
    "Ladoping = 2./3.\n",
    "Mnvalence = Ladoping*3. + (1.-Ladoping)*2. -3.*2.\n",
    "delectronsperuc = 5 - Mnvalence\n",
    "#octahedral field splitting - 3 t2g then 2 eg bands above\n",
    "if delectronsperuc <= 3:\n",
    "    momperuc = delectronsperuc\n",
    "elif delectronsperuc <= 6:\n",
    "    momperuc = 6.-delectronsperuc\n",
    "else:\n",
    "    momperuc = delectronsperuc-6.\n",
    "density = 6.5 #g/cm^3\n",
    "numuc = density * 6.022E23 / (Ladoping*138.91 + (1.-Ladoping)*87.62 + 54.938 + 3.*15.999) #g/uc\n",
    "print numuc\n",
    "print momperuc\n",
    "expmoment = momperuc * numuc * (2 * 9.271E-21) #2 bohr magneton per electron\n",
    "print 'Expected Saturation Moment: '+str(expmoment)+' emu/cm^3'\n",
    "preheader += 'Expected sat. moment: '+str(expmoment)+' emu/cm^3\\n'"
   ]
  },
  {
   "cell_type": "markdown",
   "metadata": {
    "collapsed": true
   },
   "source": [
    "## Export data to external file for graphing later"
   ]
  },
  {
   "cell_type": "code",
   "execution_count": null,
   "metadata": {
    "collapsed": true
   },
   "outputs": [],
   "source": [
    "#columnNames = 'Field (Oe), Temperature (K), Subtracted Moment (emu/cm3), Long Reg Fit'\n",
    "outfilename = filename[:-8]+'-subtracted'+filename[-8:]\n",
    "outdata = np.lib.recfunctions.append_fields(gooddata, 'Subtracted_Moment_emu/cm3', data=moment)\n",
    "outcols = ['Temperature_K','Field_Oe','Subtracted_Moment_emu/cm3','Long_Reg_Fit']\n",
    "outcolLabels = ['Temperature (K)', 'Field (Oe)', 'Subtracted Moment (emu/cm^3)', 'Long Reg Fit']\n",
    "outheader = preheader.replace('[TODO:insert time here]', time.strftime('%c',time.localtime()))+'\\n'+header+','.join(outcolLabels)\n",
    "\n",
    "np.savetxt(outfilename, outdata[outcols], delimiter=',', header=outheader)\n",
    "print 'Saved to: '+outfilename"
   ]
  },
  {
   "cell_type": "code",
   "execution_count": null,
   "metadata": {
    "collapsed": true
   },
   "outputs": [],
   "source": []
  }
 ],
 "metadata": {
  "kernelspec": {
   "display_name": "Python 2",
   "language": "python",
   "name": "python2"
  },
  "language_info": {
   "codemirror_mode": {
    "name": "ipython",
    "version": 2
   },
   "file_extension": ".py",
   "mimetype": "text/x-python",
   "name": "python",
   "nbconvert_exporter": "python",
   "pygments_lexer": "ipython2",
   "version": "2.7.14"
  }
 },
 "nbformat": 4,
 "nbformat_minor": 2
}
